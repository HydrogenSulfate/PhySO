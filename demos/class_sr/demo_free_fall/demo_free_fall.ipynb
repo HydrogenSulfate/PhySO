{
 "cells": [
  {
   "cell_type": "markdown",
   "id": "a99eb605-ef70-4f39-a5eb-238549f12182",
   "metadata": {},
   "source": [
    "# $\\Phi$-SO demo : Free fall"
   ]
  },
  {
   "cell_type": "markdown",
   "id": "0054eacb-3ebe-401f-bdd5-4703b32ef0ff",
   "metadata": {},
   "source": [
    "## Package import"
   ]
  },
  {
   "cell_type": "code",
   "execution_count": 1,
   "id": "d86033fc-1e31-429a-a76d-2d713cf45eac",
   "metadata": {
    "tags": []
   },
   "outputs": [],
   "source": [
    "# External packages\n",
    "import numpy as np\n",
    "import matplotlib.pyplot as plt\n",
    "import torch"
   ]
  },
  {
   "cell_type": "code",
   "execution_count": 2,
   "id": "b0c42171-3ef1-4cdf-9aca-efe22b010ad4",
   "metadata": {
    "tags": []
   },
   "outputs": [
    {
     "name": "stdout",
     "output_type": "stream",
     "text": [
      "Parallel mode is not available because physo is being ran from a notebook using 'spawn' multiprocessing start method (multiprocessing.get_start_method() = 'spawn'). Run physo from a python script to use parallel mode.\n",
      "Parallel mode is not available because physo is being ran from a notebook using 'spawn' multiprocessing start method (multiprocessing.get_start_method() = 'spawn'). Run physo from a python script to use parallel mode.\n",
      "\n",
      "Multiprocessing start method : spawn\n",
      "Running from notebook : True\n",
      "Is CUDA available : False\n",
      "Total nb. of CPUs :  8\n",
      "Recommended config {'parallel_mode': False, 'n_cpus': 8}\n",
      "Parallel mode is not available because physo is being ran from a notebook using 'spawn' multiprocessing start method (multiprocessing.get_start_method() = 'spawn'). Run physo from a python script to use parallel mode.\n",
      "Parallel mode is not available because physo is being ran from a notebook using 'spawn' multiprocessing start method (multiprocessing.get_start_method() = 'spawn'). Run physo from a python script to use parallel mode.\n",
      "\n",
      "Multiprocessing start method : spawn\n",
      "Running from notebook : True\n",
      "Is CUDA available : False\n",
      "Total nb. of CPUs :  8\n",
      "Recommended config {'parallel_mode': False, 'n_cpus': 8}\n",
      "Parallel mode is not available because physo is being ran from a notebook using 'spawn' multiprocessing start method (multiprocessing.get_start_method() = 'spawn'). Run physo from a python script to use parallel mode.\n",
      "Parallel mode is not available because physo is being ran from a notebook using 'spawn' multiprocessing start method (multiprocessing.get_start_method() = 'spawn'). Run physo from a python script to use parallel mode.\n",
      "\n",
      "Multiprocessing start method : spawn\n",
      "Running from notebook : True\n",
      "Is CUDA available : False\n",
      "Total nb. of CPUs :  8\n",
      "Recommended config {'parallel_mode': False, 'n_cpus': 8}\n",
      "Parallel mode is not available because physo is being ran from a notebook using 'spawn' multiprocessing start method (multiprocessing.get_start_method() = 'spawn'). Run physo from a python script to use parallel mode.\n",
      "Parallel mode is not available because physo is being ran from a notebook using 'spawn' multiprocessing start method (multiprocessing.get_start_method() = 'spawn'). Run physo from a python script to use parallel mode.\n",
      "\n",
      "Multiprocessing start method : spawn\n",
      "Running from notebook : True\n",
      "Is CUDA available : False\n",
      "Total nb. of CPUs :  8\n",
      "Recommended config {'parallel_mode': False, 'n_cpus': 8}\n",
      "Parallel mode is not available because physo is being ran from a notebook using 'spawn' multiprocessing start method (multiprocessing.get_start_method() = 'spawn'). Run physo from a python script to use parallel mode.\n",
      "Parallel mode is not available because physo is being ran from a notebook using 'spawn' multiprocessing start method (multiprocessing.get_start_method() = 'spawn'). Run physo from a python script to use parallel mode.\n",
      "\n",
      "Multiprocessing start method : spawn\n",
      "Running from notebook : True\n",
      "Is CUDA available : False\n",
      "Total nb. of CPUs :  8\n",
      "Recommended config {'parallel_mode': False, 'n_cpus': 8}\n",
      "Parallel mode is not available because physo is being ran from a notebook using 'spawn' multiprocessing start method (multiprocessing.get_start_method() = 'spawn'). Run physo from a python script to use parallel mode.\n",
      "Parallel mode is not available because physo is being ran from a notebook using 'spawn' multiprocessing start method (multiprocessing.get_start_method() = 'spawn'). Run physo from a python script to use parallel mode.\n",
      "\n",
      "Multiprocessing start method : spawn\n",
      "Running from notebook : True\n",
      "Is CUDA available : False\n",
      "Total nb. of CPUs :  8\n",
      "Recommended config {'parallel_mode': False, 'n_cpus': 8}\n"
     ]
    },
    {
     "name": "stderr",
     "output_type": "stream",
     "text": [
      "/Users/wtenachi/Documents/ASTRO_research/projects/AI_physicist/my_AI_physicist/PhySO/PhySO/physo/physym/batch_execute.py:81: UserWarning: Parallel mode is not available because physo is being ran from a notebook using 'spawn' multiprocessing start method (multiprocessing.get_start_method() = 'spawn'). Run physo from a python script to use parallel mode.\n",
      "  warnings.warn(msg)\n",
      "/Users/wtenachi/Documents/ASTRO_research/projects/AI_physicist/my_AI_physicist/PhySO/PhySO/physo/physym/reward.py:252: UserWarning: Parallel mode is not available on this system, switching to non parallel mode.\n",
      "  warnings.warn(\"Parallel mode is not available on this system, switching to non parallel mode.\")\n"
     ]
    }
   ],
   "source": [
    "# Internal code import\n",
    "import physo\n",
    "import physo.learn.monitoring as monitoring"
   ]
  },
  {
   "cell_type": "markdown",
   "id": "0b7f7258-a40c-4bfe-adf3-48e949c79304",
   "metadata": {},
   "source": [
    "## Fixing seed"
   ]
  },
  {
   "cell_type": "code",
   "execution_count": 3,
   "id": "2d99545d-b890-4680-8682-bf8b6f86ab15",
   "metadata": {
    "tags": []
   },
   "outputs": [
    {
     "data": {
      "text/plain": [
       "<torch._C.Generator at 0x127600030>"
      ]
     },
     "execution_count": 3,
     "metadata": {},
     "output_type": "execute_result"
    }
   ],
   "source": [
    "# Seed\n",
    "seed = 0\n",
    "np.random.seed(seed)\n",
    "torch.manual_seed(seed)"
   ]
  },
  {
   "cell_type": "markdown",
   "id": "de6e7396-c27e-4571-ba14-51e95c0d1c55",
   "metadata": {},
   "source": [
    "## Dataset"
   ]
  },
  {
   "cell_type": "code",
   "execution_count": 4,
   "id": "490b75d8-dbce-487e-a7a6-a9c506e8e7fc",
   "metadata": {
    "tags": []
   },
   "outputs": [],
   "source": [
    "NOISE_LEVEL = 0.0\n",
    "data_size = 100\n",
    "\n",
    "multi_X = []\n",
    "multi_y = []\n",
    "\n",
    "low = 0\n",
    "up  = 1\n",
    "\n",
    "# Object 1\n",
    "t  = np.random.uniform(low, up, data_size)\n",
    "g  = 9.81\n",
    "v0 = 7.34\n",
    "h0 = 1.23\n",
    "y  = -0.5*g*t**2 + v0*t + h0\n",
    "X = np.stack((t,), axis=0)\n",
    "y_rms = ((y ** 2).mean()) ** 0.5\n",
    "epsilon = NOISE_LEVEL * np.random.normal(0, y_rms, len(y))\n",
    "y = y + epsilon\n",
    "multi_X.append(X)\n",
    "multi_y.append(y)\n",
    "\n",
    "# Object 2\n",
    "t  = np.random.uniform(low, up, data_size)\n",
    "g  = 9.81\n",
    "v0 = -1.17\n",
    "h0 = 6.48\n",
    "y  = -0.5*g*t**2 + v0*t + h0\n",
    "X = np.stack((t,), axis=0)\n",
    "y_rms = ((y ** 2).mean()) ** 0.5\n",
    "epsilon = NOISE_LEVEL * np.random.normal(0, y_rms, len(y))\n",
    "y = y + epsilon\n",
    "multi_X.append(X)\n",
    "multi_y.append(y)\n",
    "\n",
    "\n",
    "# Object 3\n",
    "t  = np.random.uniform(low, up, data_size)\n",
    "g  = 9.81\n",
    "v0 = 5.74\n",
    "h0 = -2.13\n",
    "y  = -0.5*g*t**2 + v0*t + h0\n",
    "X = np.stack((t,), axis=0)\n",
    "y_rms = ((y ** 2).mean()) ** 0.5\n",
    "epsilon = NOISE_LEVEL * np.random.normal(0, y_rms, len(y))\n",
    "y = y + epsilon\n",
    "multi_X.append(X)\n",
    "multi_y.append(y)\n",
    "\n",
    "# Object 4\n",
    "t  = np.random.uniform(low, up, data_size)\n",
    "g  = 9.81\n",
    "v0 = 2.12\n",
    "h0 = 1.42\n",
    "y  = -0.5*g*t**2 + v0*t + h0\n",
    "X = np.stack((t,), axis=0)\n",
    "y_rms = ((y ** 2).mean()) ** 0.5\n",
    "epsilon = NOISE_LEVEL * np.random.normal(0, y_rms, len(y))\n",
    "y = y + epsilon\n",
    "multi_X.append(X)\n",
    "multi_y.append(y)"
   ]
  },
  {
   "cell_type": "markdown",
   "id": "86ff930b-bcd8-4ff0-b51c-79ce9b6966a3",
   "metadata": {},
   "source": [
    "Dataset plot"
   ]
  },
  {
   "cell_type": "code",
   "execution_count": 5,
   "id": "ce1dde4d-3efc-4e97-8a11-2288df2cc766",
   "metadata": {
    "tags": []
   },
   "outputs": [
    {
     "name": "stderr",
     "output_type": "stream",
     "text": [
      "/var/folders/_0/hgcsx0091_b2v_kzxs1_yqyh0000gp/T/ipykernel_77072/3547374387.py:3: MatplotlibDeprecationWarning: The get_cmap function was deprecated in Matplotlib 3.7 and will be removed two minor releases later. Use ``matplotlib.colormaps[name]`` or ``matplotlib.colormaps.get_cmap(obj)`` instead.\n",
      "  cmap = plt.cm.get_cmap('inferno', n_objects)\n",
      "/var/folders/_0/hgcsx0091_b2v_kzxs1_yqyh0000gp/T/ipykernel_77072/3547374387.py:8: UserWarning: *c* argument looks like a single numeric RGB or RGBA sequence, which should be avoided as value-mapping will have precedence in case its length matches with *x* & *y*.  Please use the *color* keyword-argument or provide a 2D array with a single row if you intend to specify the same RGB or RGBA value for all points.\n",
      "  ax.scatter(multi_X[i][0], multi_y[i], c=cmap(i), label=\"Object %i\"%(i))\n"
     ]
    },
    {
     "data": {
      "image/png": "[encoded data removed]",
      "text/plain": [
       "<Figure size 500x500 with 1 Axes>"
      ]
     },
     "metadata": {},
     "output_type": "display_data"
    }
   ],
   "source": [
    "n_objects = len(multi_X)\n",
    "\n",
    "cmap = plt.cm.get_cmap('inferno', n_objects)\n",
    "fig, ax = plt.subplots(1,1, figsize=(5,5))\n",
    "ax.set_xlabel(\"t\")\n",
    "ax.set_ylabel(\"y\")\n",
    "for i in range(n_objects):\n",
    "    ax.scatter(multi_X[i][0], multi_y[i], c=cmap(i), label=\"Object %i\"%(i))\n",
    "ax.legend()\n",
    "fig.savefig(\"data.png\")\n",
    "plt.show()"
   ]
  },
  {
   "cell_type": "markdown",
   "id": "fe916350-a267-4bdc-855f-1d5084af5749",
   "metadata": {},
   "source": [
    "## Running Class SR task"
   ]
  },
  {
   "cell_type": "markdown",
   "id": "b0cbd91d-cbc2-475d-966c-8e53b832f5e4",
   "metadata": {
    "tags": []
   },
   "source": [
    "### Logging config"
   ]
  },
  {
   "cell_type": "code",
   "execution_count": 6,
   "id": "d4af4c58-84fe-493e-9fd7-18a91e0f66c3",
   "metadata": {},
   "outputs": [],
   "source": [
    "save_path_training_curves = 'demo_curves.png'\n",
    "save_path_log             = 'demo.log'\n",
    "\n",
    "run_logger     = lambda : monitoring.RunLogger(save_path = save_path_log,\n",
    "                                                do_save = True)\n",
    "\n",
    "run_visualiser = lambda : monitoring.RunVisualiser (epoch_refresh_rate = 1,\n",
    "                                           save_path = save_path_training_curves,\n",
    "                                           do_show   = False,\n",
    "                                           do_prints = True,\n",
    "                                           do_save   = True, )"
   ]
  },
  {
   "cell_type": "markdown",
   "id": "176c5b73-c540-4de8-984d-3a19b2c856ca",
   "metadata": {
    "tags": []
   },
   "source": [
    "### Run"
   ]
  },
  {
   "cell_type": "code",
   "execution_count": null,
   "id": "6d606e1e-b0a4-4cfb-81c8-b609bfa9c4d5",
   "metadata": {
    "scrolled": true,
    "tags": []
   },
   "outputs": [
    {
     "name": "stdout",
     "output_type": "stream",
     "text": [
      "Parallel mode is not available because physo is being ran from a notebook using 'spawn' multiprocessing start method (multiprocessing.get_start_method() = 'spawn'). Run physo from a python script to use parallel mode.\n",
      "Parallel mode is not available because physo is being ran from a notebook using 'spawn' multiprocessing start method (multiprocessing.get_start_method() = 'spawn'). Run physo from a python script to use parallel mode.\n",
      "\n",
      "Multiprocessing start method : spawn\n",
      "Running from notebook : True\n",
      "Is CUDA available : False\n",
      "Total nb. of CPUs :  8\n",
      "Recommended config {'parallel_mode': False, 'n_cpus': 8}\n",
      "SR task started...\n"
     ]
    },
    {
     "name": "stderr",
     "output_type": "stream",
     "text": [
      "/Users/wtenachi/Documents/ASTRO_research/projects/AI_physicist/my_AI_physicist/PhySO/PhySO/physo/physym/batch_execute.py:81: UserWarning: Parallel mode is not available because physo is being ran from a notebook using 'spawn' multiprocessing start method (multiprocessing.get_start_method() = 'spawn'). Run physo from a python script to use parallel mode.\n",
      "  warnings.warn(msg)\n",
      "/Users/wtenachi/Documents/ASTRO_research/projects/AI_physicist/my_AI_physicist/PhySO/PhySO/physo/physym/reward.py:252: UserWarning: Parallel mode is not available on this system, switching to non parallel mode.\n",
      "  warnings.warn(\"Parallel mode is not available on this system, switching to non parallel mode.\")\n"
     ]
    },
    {
     "name": "stdout",
     "output_type": "stream",
     "text": [
      "=========== Epoch 00000 ===========\n",
      "-> Time 2.08 s\n",
      "\n",
      "Overall best  at R=0.867307\n",
      "-> Raw expression : \n",
      "     sin(k₂ + t)\n",
      "k₁ - ───────────\n",
      "          c₀    \n",
      "\n",
      "Best of epoch at R=0.867307\n",
      "-> Raw expression : \n",
      "     sin(k₂ + t)\n",
      "k₁ - ───────────\n",
      "          c₀    \n",
      "\n",
      "\n",
      "=========== Epoch 00001 ===========\n",
      "-> Time 78.13 s\n",
      "\n",
      "Overall best  at R=0.867307\n",
      "-> Raw expression : \n",
      "     sin(k₂ + t)\n",
      "k₁ - ───────────\n",
      "          c₀    \n",
      "\n",
      "Best of epoch at R=0.863925\n",
      "-> Raw expression : \n",
      "               ⎛         k₀⎞\n",
      "-(k₂ - cos(t))⋅⎝t + 1.0⋅ℯ  ⎠\n",
      "\n",
      "\n",
      "=========== Epoch 00002 ===========\n",
      "-> Time 70.43 s\n",
      "\n",
      "Overall best  at R=0.867307\n",
      "-> Raw expression : \n",
      "     sin(k₂ + t)\n",
      "k₁ - ───────────\n",
      "          c₀    \n",
      "\n",
      "Best of epoch at R=0.852960\n",
      "-> Raw expression : \n",
      "         ⎛                  2⎞\n",
      "      0.5⎜⎛   ⎛  0.5⎞    t ⎞ ⎟\n",
      "k₂⋅sin   ⎜⎜log⎝k₀   ⎠ + ───⎟ ⎟\n",
      "         ⎜⎜               2⎟ ⎟\n",
      "         ⎝⎝             c₀ ⎠ ⎠\n",
      "\n",
      "\n"
     ]
    },
    {
     "name": "stderr",
     "output_type": "stream",
     "text": [
      "/Users/wtenachi/Documents/ASTRO_research/projects/AI_physicist/my_AI_physicist/PhySO/PhySO/physo/physym/batch_execute.py:453: UserWarning: Unable to optimize free constants of prog [log sqrt sqrt sub div sqrt sin add add k2 1.0 k1 1.0 c0] -> r = 0\n",
      "  warnings.warn(\"Unable to optimize free constants of prog %s -> r = 0\" % (str(prog)))\n",
      "/Users/wtenachi/Documents/ASTRO_research/projects/AI_physicist/my_AI_physicist/PhySO/PhySO/physo/physym/batch_execute.py:453: UserWarning: Unable to optimize free constants of prog [neg mul t log inv add mul cos neg exp k1 k0 k1] -> r = 0\n",
      "  warnings.warn(\"Unable to optimize free constants of prog %s -> r = 0\" % (str(prog)))\n",
      "/Users/wtenachi/Documents/ASTRO_research/projects/AI_physicist/my_AI_physicist/PhySO/PhySO/physo/physym/batch_execute.py:453: UserWarning: Unable to optimize free constants of prog [log div sin add sub sub n2 add add k1 mul t 1.0 t c0 t t k0] -> r = 0\n",
      "  warnings.warn(\"Unable to optimize free constants of prog %s -> r = 0\" % (str(prog)))\n",
      "/Users/wtenachi/Documents/ASTRO_research/projects/AI_physicist/my_AI_physicist/PhySO/PhySO/physo/physym/batch_execute.py:453: UserWarning: Unable to optimize free constants of prog [mul mul neg sqrt cos exp add add div k1 t log k0 k2 k0 k2] -> r = 0\n",
      "  warnings.warn(\"Unable to optimize free constants of prog %s -> r = 0\" % (str(prog)))\n",
      "/Users/wtenachi/Documents/ASTRO_research/projects/AI_physicist/my_AI_physicist/PhySO/PhySO/physo/physym/batch_execute.py:453: UserWarning: Unable to optimize free constants of prog [sqrt sqrt div k2 sqrt 1.0] -> r = 0\n",
      "  warnings.warn(\"Unable to optimize free constants of prog %s -> r = 0\" % (str(prog)))\n"
     ]
    },
    {
     "name": "stdout",
     "output_type": "stream",
     "text": [
      "=========== Epoch 00003 ===========\n",
      "-> Time 73.38 s\n",
      "\n",
      "Overall best  at R=0.871595\n",
      "-> Raw expression : \n",
      "⎛               2    1.0⎞        \n",
      "⎝- (t + cos(k₁))  + ℯ   ⎠⋅cos(k₁)\n",
      "─────────────────────────────────\n",
      "                k₂               \n",
      "\n",
      "Best of epoch at R=0.871595\n",
      "-> Raw expression : \n",
      "⎛               2    1.0⎞        \n",
      "⎝- (t + cos(k₁))  + ℯ   ⎠⋅cos(k₁)\n",
      "─────────────────────────────────\n",
      "                k₂               \n",
      "\n",
      "\n"
     ]
    }
   ],
   "source": [
    "# Running SR task\n",
    "expression, logs = physo.ClassSR(multi_X, multi_y,\n",
    "                                     # Giving names of variables (for display purposes)\n",
    "                                     X_names = [ \"t\" ,       ],\n",
    "                                     # Giving units of input variables\n",
    "                                     X_units = [ [0, 0, 0] , ],\n",
    "                                     # Giving name of root variable (for display purposes)\n",
    "                                     y_name  = \"y\",\n",
    "                                     # Giving units of the root variable\n",
    "                                     y_units = [0, 0, 0],\n",
    "                                     # Fixed constants\n",
    "                                     fixed_consts       = [ 1.      ],\n",
    "                                     # Units of fixed constants\n",
    "                                     fixed_consts_units = [ [0, 0, 0] ],\n",
    "                                     # Free constants names (for display purposes)\n",
    "                                     class_free_consts_names = [ \"c0\"       ],\n",
    "                                     # Units of free constants\n",
    "                                     class_free_consts_units = [ [0, 0, 0]  ],\n",
    "                                     # Free constants names (for display purposes)\n",
    "                                     spe_free_consts_names = [ \"k0\"       , \"k1\"       , \"k2\"       ],\n",
    "                                     # Units of free constants\n",
    "                                     spe_free_consts_units = [ [0, 0, 0]  , [0, 0, 0]  , [0, 0, 0]  ],\n",
    "                                     # Run config\n",
    "                                     run_config = physo.config.config0b.config0b,\n",
    "\n",
    "                                     op_names = [\"mul\", \"add\", \"sub\", \"div\", \"inv\", \"n2\", \"sqrt\", \"neg\", \"exp\", \"log\", \"sin\", \"cos\"],\n",
    "                                     get_run_logger     = run_logger,\n",
    "                                     get_run_visualiser = run_visualiser,\n",
    "\n",
    "                                     parallel_mode = True,\n",
    "                                     epochs = int(1e9),\n",
    "                                     )"
   ]
  },
  {
   "cell_type": "markdown",
   "id": "f7a763bc-488e-4b1b-849e-d343fd306f84",
   "metadata": {},
   "source": [
    "## Inspecting pareto front expressions"
   ]
  },
  {
   "cell_type": "code",
   "execution_count": null,
   "id": "97029b19-1f9d-490c-b4fb-74207bbb73cf",
   "metadata": {},
   "outputs": [],
   "source": [
    "pareto_front_complexities, pareto_front_expressions, pareto_front_r, pareto_front_rmse = logs.get_pareto_front()"
   ]
  },
  {
   "cell_type": "code",
   "execution_count": null,
   "id": "189abfd7-ac00-423b-8ea9-74313dac290b",
   "metadata": {
    "tags": []
   },
   "outputs": [],
   "source": [
    "expression.get_infix_sympy()"
   ]
  }
 ],
 "metadata": {
  "kernelspec": {
   "display_name": "Python 3 (ipykernel)",
   "language": "python",
   "name": "python3"
  },
  "language_info": {
   "codemirror_mode": {
    "name": "ipython",
    "version": 3
   },
   "file_extension": ".py",
   "mimetype": "text/x-python",
   "name": "python",
   "nbconvert_exporter": "python",
   "pygments_lexer": "ipython3",
   "version": "3.8.18"
  }
 },
 "nbformat": 4,
 "nbformat_minor": 5
}
